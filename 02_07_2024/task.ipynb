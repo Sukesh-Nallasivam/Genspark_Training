{
 "cells": [
  {
   "metadata": {},
   "cell_type": "markdown",
   "source": "PART A",
   "id": "16a4e784319c7682"
  },
  {
   "metadata": {},
   "cell_type": "markdown",
   "source": "https://www.hackerrank.com/certificates/df2a5364b83d",
   "id": "ddc76aae39b60c94"
  },
  {
   "metadata": {},
   "cell_type": "markdown",
   "source": "PART B",
   "id": "bd1ead27ba66f012"
  },
  {
   "metadata": {},
   "cell_type": "markdown",
   "source": "1.Merge the tools",
   "id": "59323cf7227e9962"
  },
  {
   "cell_type": "code",
   "execution_count": null,
   "id": "initial_id",
   "metadata": {
    "collapsed": true
   },
   "outputs": [],
   "source": [
    "def merge_the_tools(string, k):\n",
    "    n=len(string)\n",
    "    split=n//k\n",
    "    string_list=list(string)\n",
    "    a=0\n",
    "    for i in range(split):\n",
    "        split_string=[]\n",
    "        for j in range(k):\n",
    "            if(a<n):\n",
    "                if(string_list[a] in split_string):\n",
    "                    a+=1\n",
    "                    continue\n",
    "                else:\n",
    "                    print(str(string_list[a]),end=\"\")                \n",
    "                    split_string.append(string_list[a])\n",
    "                    a+=1\n",
    "        print()\n",
    "        split_string=[]\n",
    "\n",
    "if __name__ == '__main__':\n",
    "    string, k = input(), int(input())\n",
    "    merge_the_tools(string, k)"
   ]
  },
  {
   "metadata": {},
   "cell_type": "markdown",
   "source": "2. Python If else",
   "id": "3dab0f1b3ba3f5b5"
  },
  {
   "metadata": {},
   "cell_type": "code",
   "outputs": [],
   "execution_count": null,
   "source": [
    "#!/bin/python3\n",
    "\n",
    "import math\n",
    "import os\n",
    "import random\n",
    "import re\n",
    "import sys\n",
    "\n",
    "\n",
    "\n",
    "if __name__ == '__main__':\n",
    "    n = int(input().strip())\n",
    "    if n%2!=0:\n",
    "        print(\"Weird\")\n",
    "    elif n%2==0 and (n>=2 and n<=5):\n",
    "        print(\"Not Weird\")\n",
    "    elif n%2==0 and (n>=6 and n<=20):\n",
    "        print(\"Weird\")\n",
    "    elif n%2==0 and n>20:\n",
    "        print(\"Not Weird\")\n"
   ],
   "id": "8e653e1ca8616663"
  },
  {
   "metadata": {},
   "cell_type": "markdown",
   "source": "3.Arithmetic Operators\n",
   "id": "6806a8823e3ac88"
  },
  {
   "metadata": {},
   "cell_type": "code",
   "outputs": [],
   "execution_count": null,
   "source": [
    "if __name__ == '__main__':\n",
    "    a = int(input())\n",
    "    b = int(input())\n",
    "    print(a+b)\n",
    "    print(a-b)\n",
    "    print(a*b)"
   ],
   "id": "64491c7be93311e3"
  },
  {
   "metadata": {},
   "cell_type": "markdown",
   "source": "4.Python: Division\n",
   "id": "946ba974da14d866"
  },
  {
   "metadata": {},
   "cell_type": "code",
   "outputs": [],
   "execution_count": null,
   "source": [
    "if __name__ == '__main__':\n",
    "    a = int(input())\n",
    "    b = int(input())\n",
    "    print(a//b)\n",
    "    print(a/b)\n"
   ],
   "id": "7c86098f446ac586"
  },
  {
   "metadata": {},
   "cell_type": "markdown",
   "source": "5.loops",
   "id": "630779ea0c7c8294"
  },
  {
   "metadata": {},
   "cell_type": "code",
   "outputs": [],
   "execution_count": null,
   "source": [
    "if __name__ == '__main__':\n",
    "    n = int(input())\n",
    "    for i in range(n):\n",
    "        print(i**2)"
   ],
   "id": "9932d1ed92de127"
  },
  {
   "metadata": {},
   "cell_type": "markdown",
   "source": "6.Write a function",
   "id": "6a7e1c3e519c0c95"
  },
  {
   "metadata": {},
   "cell_type": "code",
   "outputs": [],
   "execution_count": null,
   "source": [
    "def is_leap(n):\n",
    "    leap = False\n",
    "    if n%4==0:\n",
    "        if n%100==0:\n",
    "            if n%400==0:\n",
    "                leap = True\n",
    "            else:\n",
    "                leap = False\n",
    "        else:\n",
    "            leap = True\n",
    "    else:\n",
    "        leap = False\n",
    "            \n",
    "     \n",
    "    # Write your logic here\n",
    "    \n",
    "    return leap"
   ],
   "id": "7acc07cecb15e8d2"
  },
  {
   "metadata": {},
   "cell_type": "markdown",
   "source": "7.print function",
   "id": "517cc27ceaf7b600"
  },
  {
   "metadata": {},
   "cell_type": "code",
   "outputs": [],
   "execution_count": null,
   "source": [
    "if __name__ == '__main__':\n",
    "    n = int(input())\n",
    "    i=0\n",
    "    while(i<=n):\n",
    "        if i==0:\n",
    "            i+=1\n",
    "            continue\n",
    "        else:\n",
    "            print(i,end='')\n",
    "            i+=1\n"
   ],
   "id": "d26cc4247e5cc823"
  },
  {
   "metadata": {},
   "cell_type": "markdown",
   "source": "8.List comprehensions",
   "id": "58983ea89e81675e"
  },
  {
   "metadata": {},
   "cell_type": "code",
   "outputs": [],
   "execution_count": null,
   "source": [
    "def permutation(x,y,z,n):\n",
    "    \n",
    "    per=[[i,j,k] for i in range (x+1) for j in range(y+1) for k in range (z+1) if((i+j+k)!=n)]\n",
    "    print(per) \n",
    "        "
   ],
   "id": "802e0981b75d4cf2"
  },
  {
   "metadata": {},
   "cell_type": "markdown",
   "source": "9.collections.counter()",
   "id": "d24dd5cba1dc0d0d"
  },
  {
   "metadata": {},
   "cell_type": "code",
   "outputs": [],
   "execution_count": null,
   "source": [
    "from collections import Counter\n",
    "\n",
    "x=int(input())\n",
    "shoe_sizes=list(map(int,input().split()))\n",
    "n=int(input())\n",
    "shoe_stock=Counter(shoe_sizes)\n",
    "sum=0\n",
    "for i in range(n):\n",
    "    size, price = map(int, input().split())\n",
    "    if(shoe_stock[size]>0):\n",
    "        sum+=price\n",
    "        shoe_stock[size] -=1\n",
    "print(sum)"
   ],
   "id": "87d7085f1774bdb6"
  },
  {
   "metadata": {},
   "cell_type": "markdown",
   "source": "10.Company Logo",
   "id": "3701f96a8a4cb4bf"
  },
  {
   "metadata": {},
   "cell_type": "code",
   "outputs": [],
   "execution_count": null,
   "source": [
    "#!/bin/python3\n",
    "\n",
    "import math\n",
    "import os\n",
    "import random\n",
    "import re\n",
    "import sys\n",
    "\n",
    "\n",
    "def most_common_characters(s):\n",
    "    count_dict={}\n",
    "    s=list(s)\n",
    "    for i in range(len(s)):\n",
    "        if(s[i]in count_dict):\n",
    "            count_dict[s[i]]+=1\n",
    "        else:\n",
    "            count_dict[s[i]]=1\n",
    "    sorted_dict = sorted(count_dict.items(), key=lambda x: (-x[1], x[0]))   \n",
    "   \n",
    "    for i in range(min(3, len(sorted_dict))):\n",
    "        print(f\"{sorted_dict[i][0]} {sorted_dict[i][1]}\")\n",
    "if __name__ == '__main__':\n",
    "    s = input()\n",
    "    most_common_characters(s)"
   ],
   "id": "534dce2535c91988"
  },
  {
   "metadata": {},
   "cell_type": "markdown",
   "source": "",
   "id": "44e2d1ec3f7e7c92"
  }
 ],
 "metadata": {
  "kernelspec": {
   "display_name": "Python 3",
   "language": "python",
   "name": "python3"
  },
  "language_info": {
   "codemirror_mode": {
    "name": "ipython",
    "version": 2
   },
   "file_extension": ".py",
   "mimetype": "text/x-python",
   "name": "python",
   "nbconvert_exporter": "python",
   "pygments_lexer": "ipython2",
   "version": "2.7.6"
  }
 },
 "nbformat": 4,
 "nbformat_minor": 5
}
