{
 "cells": [
  {
   "metadata": {},
   "cell_type": "markdown",
   "source": "Longest Substring Without Repeating Characters",
   "id": "db2613e2a74f5132"
  },
  {
   "cell_type": "code",
   "execution_count": null,
   "id": "initial_id",
   "metadata": {
    "collapsed": true
   },
   "outputs": [],
   "source": [
    "class Solution(object):\n",
    "    def lengthOfLongestSubstring(self, s):\n",
    "        max_length = 0\n",
    "        start = 0\n",
    "        str_map = {}\n",
    "\n",
    "        for i in range(len(s)):\n",
    "            if s[i] in str_map and str_map[s[i]] >= start:\n",
    "                start = str_map[s[i]] + 1\n",
    "            else:\n",
    "                max_length = max(max_length, i - start + 1)\n",
    "            str_map[s[i]] = i\n",
    "\n",
    "        return max_length"
   ]
  },
  {
   "metadata": {},
   "cell_type": "markdown",
   "source": "Zigzag Conversion",
   "id": "6f7378c698a89ac6"
  },
  {
   "metadata": {},
   "cell_type": "code",
   "outputs": [],
   "execution_count": null,
   "source": [
    "class Solution(object):\n",
    "    def convert(self, s, numRows):\n",
    "        if numRows == 1 or numRows >= len(s):\n",
    "            return s\n",
    "        rows = [''] * numRows\n",
    "        index = 0\n",
    "        direction = 1\n",
    "        for char in s:\n",
    "            rows[index] += char\n",
    "            if index == 0:\n",
    "                direction = 1\n",
    "            elif index == numRows - 1:\n",
    "                direction = -1\n",
    "            \n",
    "            index += direction\n",
    "        \n",
    "        return ''.join(rows)\n",
    "\n",
    "        "
   ],
   "id": "eac8133749a5c50c"
  },
  {
   "metadata": {},
   "cell_type": "markdown",
   "source": "Jump Game",
   "id": "37c0924082318cf3"
  },
  {
   "metadata": {},
   "cell_type": "code",
   "outputs": [],
   "execution_count": null,
   "source": [
    "class Solution(object):\n",
    "    def canJump(self, nums):\n",
    "        length = len(nums)\n",
    "        current=0\n",
    "        if(length<=1):\n",
    "            return True\n",
    "        max_reach = 0\n",
    "        for i in range(length):\n",
    "            if i > max_reach:\n",
    "                return False\n",
    "            max_reach = max(max_reach, i + nums[i])\n",
    "            if max_reach >= length - 1:\n",
    "                return True        \n",
    "        return True\n",
    "        "
   ],
   "id": "8a885d96c08cc3e6"
  },
  {
   "metadata": {},
   "cell_type": "markdown",
   "source": "Unique paths",
   "id": "5ddd04aaf18baaaf"
  },
  {
   "metadata": {},
   "cell_type": "code",
   "outputs": [],
   "execution_count": null,
   "source": [
    "class Solution(object):\n",
    "    def uniquePaths(self, m, n):\n",
    "        ans, mn = 1, min(m,n)\n",
    "        for i in range(1, mn):\n",
    "            ans = ans*(m+n-i-1)//i\n",
    "\n",
    "        return ans"
   ],
   "id": "53c3b0b9fd583ee0"
  },
  {
   "metadata": {},
   "cell_type": "markdown",
   "source": "Multiply strings",
   "id": "7dfc2d9b951c4411"
  },
  {
   "metadata": {},
   "cell_type": "code",
   "outputs": [],
   "execution_count": null,
   "source": [
    "class Solution:\n",
    "    def multiply(self, num1: str, num2: str) -> str:\n",
    "        return str(int(num1) * int(num2))"
   ],
   "id": "53ebd8a36daf5acb"
  },
  {
   "metadata": {},
   "cell_type": "markdown",
   "source": "3Sum closest",
   "id": "a8418f666c699045"
  },
  {
   "metadata": {},
   "cell_type": "code",
   "outputs": [],
   "execution_count": null,
   "source": [
    "class Solution:\n",
    "    def threeSumClosest(self, nums: List[int], target: int) -> int:\n",
    "        nums.sort()\n",
    "        closest_sum = float('inf')\n",
    "        \n",
    "        for i in range(len(nums) - 2):\n",
    "            left = i + 1\n",
    "            right = len(nums) - 1\n",
    "            \n",
    "            while left < right:\n",
    "                current_sum = nums[i] + nums[left] + nums[right]\n",
    "                \n",
    "                if abs(current_sum - target) < abs(closest_sum - target):\n",
    "                    closest_sum = current_sum\n",
    "                \n",
    "                if current_sum < target:\n",
    "                    left += 1\n",
    "                elif current_sum > target:\n",
    "                    right -= 1\n",
    "                else:\n",
    "                    return target\n",
    "        \n",
    "        return closest_sum\n"
   ],
   "id": "3b9eeca15764455a"
  },
  {
   "metadata": {},
   "cell_type": "markdown",
   "source": "Valid parenthesis",
   "id": "75a7f66c5098b091"
  },
  {
   "metadata": {},
   "cell_type": "code",
   "outputs": [],
   "execution_count": null,
   "source": [
    "class Solution:\n",
    "    def generateParenthesis(self, n: int) -> List[str]:\n",
    "        results = []\n",
    "        \n",
    "        def backtrack(current_str, open_count, close_count):\n",
    "            if len(current_str) == 2 * n:\n",
    "                results.append(current_str)\n",
    "                return\n",
    "            \n",
    "            if open_count < n:\n",
    "                backtrack(current_str + '(', open_count + 1, close_count)\n",
    "            \n",
    "            if close_count < open_count:\n",
    "                backtrack(current_str + ')', open_count, close_count + 1)\n",
    "        \n",
    "        backtrack('', 0, 0)\n",
    "        return results\n"
   ],
   "id": "7fb09512085fc2ed"
  },
  {
   "metadata": {},
   "cell_type": "markdown",
   "source": "Group Anagrams",
   "id": "a999098ea3c37925"
  },
  {
   "metadata": {},
   "cell_type": "code",
   "outputs": [],
   "execution_count": null,
   "source": [
    "class Solution:\n",
    "    def groupAnagrams(self, strs: List[str]) -> List[List[str]]:\n",
    "        strs_table = {}\n",
    "\n",
    "        for string in strs:\n",
    "            sorted_string = ''.join(sorted(string))\n",
    "\n",
    "            if sorted_string not in strs_table:\n",
    "                strs_table[sorted_string] = []\n",
    "\n",
    "            strs_table[sorted_string].append(string)\n",
    "\n",
    "        return list(strs_table.values())"
   ],
   "id": "caaf53df0918a750"
  }
 ],
 "metadata": {
  "kernelspec": {
   "display_name": "Python 3",
   "language": "python",
   "name": "python3"
  },
  "language_info": {
   "codemirror_mode": {
    "name": "ipython",
    "version": 2
   },
   "file_extension": ".py",
   "mimetype": "text/x-python",
   "name": "python",
   "nbconvert_exporter": "python",
   "pygments_lexer": "ipython2",
   "version": "2.7.6"
  }
 },
 "nbformat": 4,
 "nbformat_minor": 5
}
